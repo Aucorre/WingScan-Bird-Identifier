{
 "cells": [
  {
   "cell_type": "code",
   "execution_count": 11,
   "metadata": {},
   "outputs": [],
   "source": [
    "import tensorflow as tf\n",
    "from tensorflow.keras.callbacks import TensorBoard\n",
    "import datetime\n",
    "from vars import *"
   ]
  },
  {
   "cell_type": "code",
   "execution_count": 12,
   "metadata": {},
   "outputs": [
    {
     "name": "stdout",
     "output_type": "stream",
     "text": [
      "Found 9152 files belonging to 100 classes.\n",
      "Using 7322 files for training.\n",
      "Found 9152 files belonging to 100 classes.\n",
      "Using 1830 files for validation.\n"
     ]
    }
   ],
   "source": [
    "# from tensorflow.keras.preprocessing.image import ImageDataGenerator\n",
    "\n",
    "\n",
    "dataset_path = dataset_path\n",
    "\n",
    "log_dir = \"../logs/fit/\" + datetime.datetime.now().strftime(\"%Y%m%d-%H%M%S\")\n",
    "tensorboard_callback = TensorBoard(log_dir=log_dir, histogram_freq=1)\n",
    "\n",
    "\n",
    "train_dataset = tf.keras.preprocessing.image_dataset_from_directory(\n",
    "    dataset_path,\n",
    "    validation_split=0.2,\n",
    "    subset=\"training\",\n",
    "    seed=123,\n",
    "    image_size=(150, 150),\n",
    "    batch_size=75)\n",
    "\n",
    "validation_dataset = tf.keras.preprocessing.image_dataset_from_directory(\n",
    "    dataset_path,\n",
    "    validation_split=0.2,\n",
    "    subset=\"validation\",\n",
    "    seed=123,\n",
    "    image_size=(150, 150),\n",
    "    batch_size=75)\n",
    "\n",
    "\n",
    "AUTOTUNE = tf.data.experimental.AUTOTUNE\n",
    "train_dataset = train_dataset.cache().shuffle(1000).prefetch(buffer_size=AUTOTUNE)\n",
    "validation_dataset = validation_dataset.cache().prefetch(buffer_size=AUTOTUNE)\n",
    "\n",
    "\n",
    "# train_datagen = ImageDataGenerator(\n",
    "#     rescale=1./255,\n",
    "#     rotation_range=20,\n",
    "#     width_shift_range=0.2,\n",
    "#     height_shift_range=0.2,\n",
    "#     shear_range=0.2,\n",
    "#     zoom_range=0.2,\n",
    "#     horizontal_flip=True,\n",
    "#     validation_split=0.2) \n",
    "\n",
    "\n",
    "# train_generator = train_datagen.flow_from_directory(\n",
    "#     dataset_path,\n",
    "#     target_size=(150, 150),\n",
    "#     batch_size=64,\n",
    "#     class_mode='categorical', \n",
    "#     subset='training') \n",
    "\n",
    "\n",
    "# validation_generator = train_datagen.flow_from_directory(\n",
    "#     dataset_path,\n",
    "#     target_size=(150, 150),\n",
    "#     batch_size=32,\n",
    "#     class_mode='categorical',\n",
    "#     subset='validation')"
   ]
  },
  {
   "cell_type": "code",
   "execution_count": 13,
   "metadata": {},
   "outputs": [
    {
     "name": "stdout",
     "output_type": "stream",
     "text": [
      "Model: \"sequential_2\"\n",
      "_________________________________________________________________\n",
      " Layer (type)                Output Shape              Param #   \n",
      "=================================================================\n",
      " random_flip_1 (RandomFlip)  (None, 150, 150, 3)       0         \n",
      "                                                                 \n",
      " random_rotation_1 (RandomRo  (None, 150, 150, 3)      0         \n",
      " tation)                                                         \n",
      "                                                                 \n",
      " conv2d_5 (Conv2D)           (None, 148, 148, 32)      896       \n",
      "                                                                 \n",
      " max_pooling2d_5 (MaxPooling  (None, 74, 74, 32)       0         \n",
      " 2D)                                                             \n",
      "                                                                 \n",
      " conv2d_6 (Conv2D)           (None, 72, 72, 64)        18496     \n",
      "                                                                 \n",
      " max_pooling2d_6 (MaxPooling  (None, 36, 36, 64)       0         \n",
      " 2D)                                                             \n",
      "                                                                 \n",
      " conv2d_7 (Conv2D)           (None, 34, 34, 64)        36928     \n",
      "                                                                 \n",
      " max_pooling2d_7 (MaxPooling  (None, 17, 17, 64)       0         \n",
      " 2D)                                                             \n",
      "                                                                 \n",
      " flatten_2 (Flatten)         (None, 18496)             0         \n",
      "                                                                 \n",
      " dropout_2 (Dropout)         (None, 18496)             0         \n",
      "                                                                 \n",
      " dense_4 (Dense)             (None, 32)                591904    \n",
      "                                                                 \n",
      " dense_5 (Dense)             (None, 100)               3300      \n",
      "                                                                 \n",
      "=================================================================\n",
      "Total params: 651,524\n",
      "Trainable params: 651,524\n",
      "Non-trainable params: 0\n",
      "_________________________________________________________________\n"
     ]
    }
   ],
   "source": [
    "from tensorflow.keras.models import Sequential\n",
    "from tensorflow.keras.layers import Conv2D, MaxPooling2D, Flatten, Dense, Dropout\n",
    "from tensorflow.keras.layers.experimental.preprocessing import RandomFlip, RandomRotation, RandomZoom, RandomCrop\n",
    "\n",
    "model = Sequential([\n",
    "    RandomFlip(\"horizontal\", input_shape=(150, 150, 3)),\n",
    "    RandomRotation(0.1),\n",
    "    Conv2D(32, (3, 3), activation='relu'),\n",
    "    MaxPooling2D(2, 2),\n",
    "    Conv2D(64, (3, 3), activation='relu'),\n",
    "    MaxPooling2D(2, 2),\n",
    "    Conv2D(64, (3, 3), activation='relu'),\n",
    "    MaxPooling2D(2, 2),\n",
    "    Flatten(),\n",
    "    Dropout(0.2),\n",
    "    Dense(32, activation='relu'),\n",
    "    Dense(classes, activation='softmax')\n",
    "])\n",
    "\n",
    "model.summary()"
   ]
  },
  {
   "cell_type": "code",
   "execution_count": 14,
   "metadata": {},
   "outputs": [],
   "source": [
    "model.compile(optimizer='adam',\n",
    "              loss='sparse_categorical_crossentropy',\n",
    "              metrics=['accuracy'])"
   ]
  },
  {
   "cell_type": "code",
   "execution_count": 15,
   "metadata": {},
   "outputs": [
    {
     "name": "stdout",
     "output_type": "stream",
     "text": [
      "Epoch 1/10\n",
      "WARNING:tensorflow:Using a while_loop for converting RngReadAndSkip cause there is no registered converter for this op.\n",
      "WARNING:tensorflow:Using a while_loop for converting Bitcast cause there is no registered converter for this op.\n",
      "WARNING:tensorflow:Using a while_loop for converting Bitcast cause there is no registered converter for this op.\n",
      "WARNING:tensorflow:Using a while_loop for converting StatelessRandomUniformV2 cause there is no registered converter for this op.\n",
      "WARNING:tensorflow:Using a while_loop for converting ImageProjectiveTransformV3 cause there is no registered converter for this op.\n",
      "WARNING:tensorflow:Using a while_loop for converting RngReadAndSkip cause there is no registered converter for this op.\n",
      "WARNING:tensorflow:Using a while_loop for converting Bitcast cause there is no registered converter for this op.\n",
      "WARNING:tensorflow:Using a while_loop for converting Bitcast cause there is no registered converter for this op.\n",
      "WARNING:tensorflow:Using a while_loop for converting StatelessRandomUniformV2 cause there is no registered converter for this op.\n",
      "WARNING:tensorflow:Using a while_loop for converting ImageProjectiveTransformV3 cause there is no registered converter for this op.\n",
      "98/98 [==============================] - 98s 541ms/step - loss: 5.7022 - accuracy: 0.0087 - val_loss: 4.6059 - val_accuracy: 0.0066\n",
      "Epoch 2/10\n",
      "98/98 [==============================] - 42s 430ms/step - loss: 4.6053 - accuracy: 0.0085 - val_loss: 4.6067 - val_accuracy: 0.0033\n",
      "Epoch 3/10\n",
      "98/98 [==============================] - 43s 437ms/step - loss: 4.6051 - accuracy: 0.0105 - val_loss: 4.6075 - val_accuracy: 0.0033\n",
      "Epoch 4/10\n",
      "98/98 [==============================] - 42s 430ms/step - loss: 4.6050 - accuracy: 0.0117 - val_loss: 4.6082 - val_accuracy: 0.0033\n",
      "Epoch 5/10\n",
      "98/98 [==============================] - 41s 418ms/step - loss: 4.6048 - accuracy: 0.0117 - val_loss: 4.6088 - val_accuracy: 0.0033\n",
      "Epoch 6/10\n",
      "98/98 [==============================] - 42s 433ms/step - loss: 4.6047 - accuracy: 0.0117 - val_loss: 4.6094 - val_accuracy: 0.0033\n",
      "Epoch 7/10\n",
      "98/98 [==============================] - 41s 423ms/step - loss: 4.6046 - accuracy: 0.0117 - val_loss: 4.6100 - val_accuracy: 0.0033\n",
      "Epoch 8/10\n",
      "98/98 [==============================] - 42s 424ms/step - loss: 4.6045 - accuracy: 0.0117 - val_loss: 4.6105 - val_accuracy: 0.0033\n",
      "Epoch 9/10\n",
      "98/98 [==============================] - 40s 410ms/step - loss: 4.6045 - accuracy: 0.0117 - val_loss: 4.6110 - val_accuracy: 0.0033\n",
      "Epoch 10/10\n",
      "98/98 [==============================] - 39s 401ms/step - loss: 4.6044 - accuracy: 0.0117 - val_loss: 4.6114 - val_accuracy: 0.0033\n"
     ]
    }
   ],
   "source": [
    "history = model.fit(\n",
    "    train_dataset,\n",
    "    epochs=10,\n",
    "    validation_data=validation_dataset)"
   ]
  }
 ],
 "metadata": {
  "kernelspec": {
   "display_name": "wingscan",
   "language": "python",
   "name": "python3"
  },
  "language_info": {
   "codemirror_mode": {
    "name": "ipython",
    "version": 3
   },
   "file_extension": ".py",
   "mimetype": "text/x-python",
   "name": "python",
   "nbconvert_exporter": "python",
   "pygments_lexer": "ipython3",
   "version": "3.9.19"
  }
 },
 "nbformat": 4,
 "nbformat_minor": 2
}
