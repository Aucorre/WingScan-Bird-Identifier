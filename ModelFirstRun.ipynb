{
 "cells": [
  {
   "cell_type": "code",
   "execution_count": 61,
   "metadata": {},
   "outputs": [],
   "source": [
    "import tensorflow as tf\n",
    "from tensorflow.keras.callbacks import TensorBoard\n",
    "import datetime\n",
    "from vars import *"
   ]
  },
  {
   "cell_type": "code",
   "execution_count": 62,
   "metadata": {},
   "outputs": [
    {
     "name": "stdout",
     "output_type": "stream",
     "text": [
      "Found 9152 files belonging to 100 classes.\n",
      "Using 7322 files for training.\n",
      "Found 9152 files belonging to 100 classes.\n",
      "Using 1830 files for validation.\n"
     ]
    }
   ],
   "source": [
    "# from tensorflow.keras.preprocessing.image import ImageDataGenerator\n",
    "\n",
    "\n",
    "dataset_path = dataset_path\n",
    "\n",
    "log_dir = \"../logs/fit/\" + datetime.datetime.now().strftime(\"%Y%m%d-%H%M%S\")\n",
    "tensorboard_callback = TensorBoard(log_dir=log_dir, histogram_freq=1)\n",
    "\n",
    "\n",
    "train_dataset = tf.keras.preprocessing.image_dataset_from_directory(\n",
    "    dataset_path,\n",
    "    validation_split=0.2,\n",
    "    subset=\"training\",\n",
    "    seed=123,\n",
    "    image_size=(200, 200),\n",
    "    batch_size=64)\n",
    "\n",
    "validation_dataset = tf.keras.preprocessing.image_dataset_from_directory(\n",
    "    dataset_path,\n",
    "    validation_split=0.2,\n",
    "    subset=\"validation\",\n",
    "    seed=123,\n",
    "    image_size=(200, 200),\n",
    "    batch_size=64)\n",
    "\n",
    "train_dataset = train_dataset.map(lambda x, y: (x/255, y))\n",
    "validation_dataset = validation_dataset.map(lambda x, y: (x/255, y))\n",
    "\n",
    "\n",
    "AUTOTUNE = tf.data.experimental.AUTOTUNE\n",
    "train_dataset = train_dataset.cache().shuffle(1000).prefetch(buffer_size=AUTOTUNE)\n",
    "validation_dataset = validation_dataset.cache().prefetch(buffer_size=AUTOTUNE)\n",
    "\n",
    "\n",
    "# train_datagen = ImageDataGenerator(\n",
    "#     rescale=1./255,\n",
    "#     rotation_range=20,\n",
    "#     width_shift_range=0.2,\n",
    "#     height_shift_range=0.2,\n",
    "#     shear_range=0.2,\n",
    "#     zoom_range=0.2,\n",
    "#     horizontal_flip=True,\n",
    "#     validation_split=0.2) \n",
    "\n",
    "\n",
    "# train_generator = train_datagen.flow_from_directory(\n",
    "#     dataset_path,\n",
    "#     target_size=(150, 150),\n",
    "#     batch_size=64,\n",
    "#     class_mode='categorical', \n",
    "#     subset='training') \n",
    "\n",
    "\n",
    "# validation_generator = train_datagen.flow_from_directory(\n",
    "#     dataset_path,\n",
    "#     target_size=(150, 150),\n",
    "#     batch_size=32,\n",
    "#     class_mode='categorical',\n",
    "#     subset='validation')"
   ]
  },
  {
   "cell_type": "code",
   "execution_count": 63,
   "metadata": {},
   "outputs": [
    {
     "name": "stdout",
     "output_type": "stream",
     "text": [
      "Model: \"sequential_12\"\n",
      "_________________________________________________________________\n",
      " Layer (type)                Output Shape              Param #   \n",
      "=================================================================\n",
      " random_flip_11 (RandomFlip)  (None, 200, 200, 3)      0         \n",
      "                                                                 \n",
      " random_rotation_11 (RandomR  (None, 200, 200, 3)      0         \n",
      " otation)                                                        \n",
      "                                                                 \n",
      " conv2d_35 (Conv2D)          (None, 198, 198, 32)      896       \n",
      "                                                                 \n",
      " max_pooling2d_35 (MaxPoolin  (None, 99, 99, 32)       0         \n",
      " g2D)                                                            \n",
      "                                                                 \n",
      " conv2d_36 (Conv2D)          (None, 97, 97, 64)        18496     \n",
      "                                                                 \n",
      " max_pooling2d_36 (MaxPoolin  (None, 48, 48, 64)       0         \n",
      " g2D)                                                            \n",
      "                                                                 \n",
      " conv2d_37 (Conv2D)          (None, 46, 46, 64)        36928     \n",
      "                                                                 \n",
      " max_pooling2d_37 (MaxPoolin  (None, 23, 23, 64)       0         \n",
      " g2D)                                                            \n",
      "                                                                 \n",
      " flatten_12 (Flatten)        (None, 33856)             0         \n",
      "                                                                 \n",
      " dropout_12 (Dropout)        (None, 33856)             0         \n",
      "                                                                 \n",
      " dense_24 (Dense)            (None, 256)               8667392   \n",
      "                                                                 \n",
      " dense_25 (Dense)            (None, 100)               25700     \n",
      "                                                                 \n",
      "=================================================================\n",
      "Total params: 8,749,412\n",
      "Trainable params: 8,749,412\n",
      "Non-trainable params: 0\n",
      "_________________________________________________________________\n"
     ]
    }
   ],
   "source": [
    "from tensorflow.keras.models import Sequential\n",
    "from tensorflow.keras.layers import Conv2D, MaxPooling2D, Flatten, Dense, Dropout\n",
    "from tensorflow.keras.layers.experimental.preprocessing import RandomFlip, RandomRotation, RandomZoom, RandomCrop\n",
    "\n",
    "model = Sequential([\n",
    "    RandomFlip(\"horizontal\", input_shape=(200, 200, 3)),\n",
    "    RandomRotation(0.1),\n",
    "    Conv2D(32, (3, 3), activation='relu'),\n",
    "    MaxPooling2D(2, 2),\n",
    "    Conv2D(64, (3, 3), activation='relu'),\n",
    "    MaxPooling2D(2, 2),\n",
    "    Conv2D(64, (3, 3), activation='relu'),\n",
    "    MaxPooling2D(2, 2),\n",
    "    Flatten(),\n",
    "    Dropout(0.2),\n",
    "    Dense(256, activation='relu'),\n",
    "    Dense(100, activation='softmax')\n",
    "])\n",
    "\n",
    "model.summary()"
   ]
  },
  {
   "cell_type": "code",
   "execution_count": 64,
   "metadata": {},
   "outputs": [],
   "source": [
    "model.compile(optimizer='adam',\n",
    "              loss='sparse_categorical_crossentropy',\n",
    "              metrics=['accuracy'])"
   ]
  },
  {
   "cell_type": "code",
   "execution_count": 65,
   "metadata": {},
   "outputs": [
    {
     "name": "stdout",
     "output_type": "stream",
     "text": [
      "Epoch 1/6\n"
     ]
    },
    {
     "name": "stdout",
     "output_type": "stream",
     "text": [
      "WARNING:tensorflow:Using a while_loop for converting RngReadAndSkip cause there is no registered converter for this op.\n",
      "WARNING:tensorflow:Using a while_loop for converting Bitcast cause there is no registered converter for this op.\n",
      "WARNING:tensorflow:Using a while_loop for converting Bitcast cause there is no registered converter for this op.\n",
      "WARNING:tensorflow:Using a while_loop for converting StatelessRandomUniformV2 cause there is no registered converter for this op.\n",
      "WARNING:tensorflow:Using a while_loop for converting ImageProjectiveTransformV3 cause there is no registered converter for this op.\n",
      "WARNING:tensorflow:Using a while_loop for converting RngReadAndSkip cause there is no registered converter for this op.\n",
      "WARNING:tensorflow:Using a while_loop for converting Bitcast cause there is no registered converter for this op.\n",
      "WARNING:tensorflow:Using a while_loop for converting Bitcast cause there is no registered converter for this op.\n",
      "WARNING:tensorflow:Using a while_loop for converting StatelessRandomUniformV2 cause there is no registered converter for this op.\n",
      "WARNING:tensorflow:Using a while_loop for converting ImageProjectiveTransformV3 cause there is no registered converter for this op.\n",
      "115/115 [==============================] - 114s 532ms/step - loss: 4.6093 - accuracy: 0.0100 - val_loss: 4.6273 - val_accuracy: 0.0126\n",
      "Epoch 2/6\n",
      "115/115 [==============================] - 47s 409ms/step - loss: 4.5478 - accuracy: 0.0201 - val_loss: 4.5019 - val_accuracy: 0.0311\n",
      "Epoch 3/6\n",
      "115/115 [==============================] - 43s 374ms/step - loss: 4.4032 - accuracy: 0.0388 - val_loss: 4.4205 - val_accuracy: 0.0432\n",
      "Epoch 4/6\n",
      "115/115 [==============================] - 44s 387ms/step - loss: 4.2164 - accuracy: 0.0642 - val_loss: 4.4053 - val_accuracy: 0.0464\n",
      "Epoch 5/6\n",
      "115/115 [==============================] - 45s 388ms/step - loss: 4.0100 - accuracy: 0.0982 - val_loss: 4.2836 - val_accuracy: 0.0607\n",
      "Epoch 6/6\n",
      "115/115 [==============================] - 43s 370ms/step - loss: 3.7979 - accuracy: 0.1310 - val_loss: 4.2473 - val_accuracy: 0.0727\n"
     ]
    }
   ],
   "source": [
    "history = model.fit(\n",
    "    train_dataset,\n",
    "    epochs=12,\n",
    "    validation_data=validation_dataset)"
   ]
  }
 ],
 "metadata": {
  "kernelspec": {
   "display_name": "wingscan",
   "language": "python",
   "name": "python3"
  },
  "language_info": {
   "codemirror_mode": {
    "name": "ipython",
    "version": 3
   },
   "file_extension": ".py",
   "mimetype": "text/x-python",
   "name": "python",
   "nbconvert_exporter": "python",
   "pygments_lexer": "ipython3",
   "version": "3.9.19"
  }
 },
 "nbformat": 4,
 "nbformat_minor": 2
}
